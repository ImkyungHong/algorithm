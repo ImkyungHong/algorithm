{
 "cells": [
  {
   "cell_type": "code",
   "execution_count": 1,
   "source": [
    "## 함수 선언부\r\n",
    "def add_data(friend):\r\n",
    "    katok.append(None)\r\n",
    "    kLen = len(katok)\r\n",
    "    katok[kLen-1] = friend\r\n",
    "\r\n",
    "def insert_data(position, friend):      #삽입함수\r\n",
    "    katok.append(None)\r\n",
    "    kLen = len(katok)\r\n",
    "\r\n",
    "    for i in range(kLen-1, position, -1):\r\n",
    "        katok[i] = katok[i-1]\r\n",
    "        katok[i-1] = None\r\n",
    "\r\n",
    "    katok[position] = friend\r\n",
    "\r\n",
    "def delete_data(position):\r\n",
    "    kLen = len(katok)\r\n",
    "    katok[position] = None\r\n",
    "\r\n",
    "    for i in range(position+1, kLen, 1):\r\n",
    "        katok[i-1] = katok[i]\r\n",
    "        katok[i] = None\r\n",
    "    \r\n",
    "    del(katok[kLen-1])"
   ],
   "outputs": [],
   "metadata": {}
  },
  {
   "cell_type": "code",
   "execution_count": 2,
   "source": [
    "## 전역 변수부\r\n",
    "katok = []\r\n",
    "select = -1 # 1.추가 2.삽입 3.삭제 4.종료"
   ],
   "outputs": [],
   "metadata": {}
  },
  {
   "cell_type": "code",
   "execution_count": 3,
   "source": [
    "## 메인 코드부\r\n",
    "while(select != 4):\r\n",
    "    select = int(input('1.추가 2.삽입 3.삭제 4.종료-->'))\r\n",
    "\r\n",
    "    if (select == 1) :\r\n",
    "        data = input('추가할 데이터 ->')\r\n",
    "        add_data(data)\r\n",
    "        print(katok)\r\n",
    "\r\n",
    "    elif (select ==2 ):\r\n",
    "        pos = int(input('삽입할 위치 ->'))\r\n",
    "        data = input('추가할 데이터-> ')\r\n",
    "        insert_data(pos, data)\r\n",
    "        print(katok)\r\n",
    "\r\n",
    "    elif (select ==3 ):\r\n",
    "        pos = int(input('삭제할 위치->'))\r\n",
    "        delete_data(pos)\r\n",
    "        print(katok)\r\n",
    "\r\n",
    "    elif (select ==4 ):\r\n",
    "        print(katok)\r\n",
    "        break\r\n",
    "    \r\n",
    "    else:\r\n",
    "        print('다시 확인!')\r\n",
    "        continue"
   ],
   "outputs": [],
   "metadata": {}
  }
 ],
 "metadata": {
  "orig_nbformat": 4,
  "language_info": {
   "name": "python",
   "version": "3.8.10",
   "mimetype": "text/x-python",
   "codemirror_mode": {
    "name": "ipython",
    "version": 3
   },
   "pygments_lexer": "ipython3",
   "nbconvert_exporter": "python",
   "file_extension": ".py"
  },
  "kernelspec": {
   "name": "python3",
   "display_name": "Python 3.8.10 64-bit ('base': conda)"
  },
  "interpreter": {
   "hash": "2c5373b56045d27805095073b4fd3831b9681fb378d55d950933c3cade222603"
  }
 },
 "nbformat": 4,
 "nbformat_minor": 2
}